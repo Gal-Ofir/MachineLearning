{
 "cells": [
  {
   "cell_type": "markdown",
   "metadata": {},
   "source": [
    "# Exercise 2: Decision Trees\n",
    "\n",
    "In this assignment you will implement a Decision Tree algorithm as learned in class.\n",
    "\n",
    "## Read the following instructions carefully:\n",
    "\n",
    "1. This jupyter notebook contains all the step by step instructions needed for this exercise.\n",
    "2. Write vectorized code whenever possible.\n",
    "3. You are responsible for the correctness of your code and should add as many tests as you see fit. Tests will not be graded nor checked.\n",
    "4. Write your functions in the provided `hw2.py` python module only. All the logic you write is imported and used in this jupyter notebook.\n",
    "5. You are allowed to use functions and methods from the [Python Standard Library](https://docs.python.org/3/library/) and [numpy](https://www.numpy.org/devdocs/reference/) only. Any other imports detected in `hw2.py` will earn you the grade of 0, even if you only used them for testing.\n",
    "6. Your code must run without errors. During the environment setup, you were given a specific version of `numpy` to install. Changes of the configuration we provided are at your own risk. Code that cannot run will also earn you the grade of 0.\n",
    "7. Write your own code. Cheating will not be tolerated. \n",
    "8. Submission includes the `hw2.py` file and this notebook. Answers to qualitative questions should be written in markdown cells (with $\\LaTeX$ support).\n",
    "9. You are allowed to include additional functions.\n",
    "10. Submission: zip only the completed jupyter notebook and the python file `hw2.py`. Do not include the data or any directories. Name the file `ID1_ID2.zip` and submit only one copy of the assignment.\n",
    "\n",
    "## In this exercise you will perform the following:\n",
    "1. Practice OOP in python.\n",
    "2. Implement two impurity measures: Gini and Entropy.\n",
    "3. Implement a decision tree from scratch.\n",
    "4. Prune the tree to achieve better results.\n",
    "5. Visualize your results and the tree."
   ]
  },
  {
   "cell_type": "code",
   "execution_count": 12,
   "metadata": {
    "deletable": false,
    "editable": false,
    "nbgrader": {
     "checksum": "63bcec20cb406a2169b49168f173c760",
     "grade": false,
     "grade_id": "cell-ed9fe7b1026e33cb",
     "locked": true,
     "schema_version": 1,
     "solution": false
    }
   },
   "outputs": [
    {
     "name": "stdout",
     "output_type": "stream",
     "text": [
      "The autoreload extension is already loaded. To reload it, use:\n",
      "  %reload_ext autoreload\n"
     ]
    }
   ],
   "source": [
    "import numpy as np\n",
    "import pandas as pd\n",
    "import matplotlib.pyplot as plt\n",
    "from hw2 import * # this imports all functions from hw2.\n",
    "\n",
    "# make matplotlib figures appear inline in the notebook\n",
    "%matplotlib inline\n",
    "plt.rcParams['figure.figsize'] = (10.0, 8.0) # set default size of plots\n",
    "plt.rcParams['image.interpolation'] = 'nearest'\n",
    "plt.rcParams['image.cmap'] = 'gray'\n",
    "\n",
    "# Make the notebook automatically reload external python modules\n",
    "%load_ext autoreload\n",
    "%autoreload 2"
   ]
  },
  {
   "cell_type": "markdown",
   "metadata": {},
   "source": [
    "## Warmup - OOP in python\n",
    "\n",
    "Our decision tree will be implemented using a dedicated python class. Python classes are very similar to classes in Java.\n",
    "\n",
    "\n",
    "You can use the following [site](https://jeffknupp.com/blog/2014/06/18/improve-your-python-python-classes-and-object-oriented-programming/) to learn about classes in python."
   ]
  },
  {
   "cell_type": "code",
   "execution_count": 13,
   "metadata": {},
   "outputs": [],
   "source": [
    "class Node(object):\n",
    "    def __init__(self, data):\n",
    "        self.data = data\n",
    "        self.children = []\n",
    "\n",
    "    def add_child(self, node):\n",
    "        self.children.append(node)"
   ]
  },
  {
   "cell_type": "code",
   "execution_count": 14,
   "metadata": {},
   "outputs": [
    {
     "data": {
      "text/plain": [
       "[<__main__.Node at 0x2f431d21390>, <__main__.Node at 0x2f431d216d8>]"
      ]
     },
     "execution_count": 14,
     "metadata": {},
     "output_type": "execute_result"
    }
   ],
   "source": [
    "n = Node(5)\n",
    "p = Node(6)\n",
    "q = Node(7)\n",
    "n.add_child(p)\n",
    "n.add_child(q)\n",
    "n.children"
   ]
  },
  {
   "cell_type": "markdown",
   "metadata": {},
   "source": [
    "## Data preprocessing\n",
    "\n",
    "We will use the breast cancer dataset that is available as a part of sklearn - a popular machine learning and data science library in python. In this example, our dataset will be a single matrix with the **labels on the last column**. Notice that you are not allowed to use additional functions from sklearn."
   ]
  },
  {
   "cell_type": "code",
   "execution_count": 15,
   "metadata": {
    "deletable": false,
    "editable": false,
    "nbgrader": {
     "checksum": "0e2620b671ce98b8a856d59ce9f95f71",
     "grade": false,
     "grade_id": "cell-d79cb4542926ad3f",
     "locked": true,
     "schema_version": 1,
     "solution": false
    }
   },
   "outputs": [
    {
     "name": "stdout",
     "output_type": "stream",
     "text": [
      "Training dataset shape:  (426, 31)\n",
      "Testing dataset shape:  (143, 31)\n"
     ]
    }
   ],
   "source": [
    "from sklearn import datasets\n",
    "from sklearn.model_selection import train_test_split\n",
    "\n",
    "# load dataset\n",
    "X, y = datasets.load_breast_cancer(return_X_y = True)\n",
    "X = np.column_stack([X,y]) # the last column holds the labels\n",
    "\n",
    "# split dataset\n",
    "X_train, X_test = train_test_split(X, random_state=99)\n",
    "\n",
    "print(\"Training dataset shape: \", X_train.shape)\n",
    "print(\"Testing dataset shape: \", X_test.shape)"
   ]
  },
  {
   "cell_type": "markdown",
   "metadata": {},
   "source": [
    "## Impurity Measures\n",
    "\n",
    "Implement the functions `calc_gini` (5 points) and `calc_entropy` (5 points) in the python file `hw2.py`. You are encouraged to test your implementation using the cell below."
   ]
  },
  {
   "cell_type": "code",
   "execution_count": 16,
   "metadata": {},
   "outputs": [
    {
     "name": "stdout",
     "output_type": "stream",
     "text": [
      "0.47768299940488\n",
      "0.9675594819018212\n",
      "0.0\n",
      "0.0\n",
      "0.0\n",
      "0.0\n"
     ]
    }
   ],
   "source": [
    "##### Your code here #####\n",
    "print (calc_gini(X_train))\n",
    "print (calc_entropy(X_train))\n",
    "\n",
    "# All of these should equal 0\n",
    "print (calc_gini(X_train[X_train[:,-1]>0]))\n",
    "print (calc_gini(X_train[X_train[:,-1]<1]))\n",
    "print (calc_entropy(X_train[X_train[:,-1]>0]))\n",
    "print (calc_entropy(X_train[X_train[:,-1]<1]))"
   ]
  },
  {
   "cell_type": "markdown",
   "metadata": {},
   "source": [
    "## Building a Decision Tree\n",
    "\n",
    "Use a Python class to construct the decision tree (look at the `DecisionNode` class in the python file `hw2.py`. Your class should support the following functionality:\n",
    "\n",
    "1. Initiating a node for a decision tree. You will need to use several class methods and class attributes and you are free to use them as you see fit. We recommend that every node will hold the feature and value used for the split and its children.\n",
    "2. Your code should support both Gini and Entropy as impurity measures. \n",
    "3. The provided data includes continuous data. In this exercise, create at most a single split for each node of the tree. The threshold you need to use for this exercise are the average of each consecutive pair of values. For example, assume some features contains the following values: [1,2,3,4,5]. You should use the following thresholds [1.5, 2.5, 3.5, 4.5]. \n",
    "4. When constructing the tree, test all possible thresholds for each feature. The stopping criteria is a pure tree.\n",
    "\n",
    "Complete the class `DecisionNode` in the python file `hw2.py`. The structure of this class is entirely up to you. Complete the function `build_tree` in the python file `hw2.py`. This function should get the training dataset and the impurity as inputs, initiate a root for the decision tree and construct the tree according to the procedure you learned in class. (30 points)."
   ]
  },
  {
   "cell_type": "code",
   "execution_count": 17,
   "metadata": {},
   "outputs": [],
   "source": [
    "# python support passing a function as arguments to another function.\n",
    "tree_gini = build_tree(data=X_train, impurity=calc_gini) \n",
    "tree_entropy = build_tree(data=X_train, impurity=calc_entropy)"
   ]
  },
  {
   "cell_type": "markdown",
   "metadata": {},
   "source": [
    "## Tree evaluation\n",
    "\n",
    "Complete the functions `predict` and `calc_accuracy` in the python file `hw2.py`. You are allowed to implement this functionality as a class method.\n",
    "\n",
    "After building both trees using the training set (using Gini and Entropy as impurity measures), you should calculate the accuracy on the test set and print the measure that gave you the best test accuracy. For the rest of the exercise, use that impurity measure. (10 points)"
   ]
  },
  {
   "cell_type": "code",
   "execution_count": 18,
   "metadata": {},
   "outputs": [
    {
     "name": "stdout",
     "output_type": "stream",
     "text": [
      "The best measure is calc_entropy. accuracy: 0.9370629370629371\n"
     ]
    }
   ],
   "source": [
    "#### Your code here ####\n",
    "gini = calc_accuracy(tree_gini, X_test)\n",
    "entropy = calc_accuracy(tree_entropy, X_test)\n",
    "best_func = calc_gini if gini > entropy else calc_entropy\n",
    "best_tree = tree_gini if gini > entropy else tree_entropy\n",
    "print ('The best measure is', 'calc_gini.' if gini > entropy else 'calc_entropy.', 'accuracy:', max(gini, entropy))"
   ]
  },
  {
   "cell_type": "markdown",
   "metadata": {},
   "source": [
    "## Chi square pre-pruning\n",
    "\n",
    "Consider the following p-value cut-off values: [1 (no pruning), 0.01, 0.005, 0.001, 0.0005, 0.0001, 0.00001]. For each value, construct a tree and prune it according to the cut-off value. Next, calculate the training and testing accuracy. On a single plot, draw the training and testing accuracy as a function of the p-value. What p-value gives you the best results? Does the results support the theory you learned in class regarding Chi square pruning? Explain. (20 points)\n",
    "\n",
    "**Note**: You need to change the `DecisionNode` to support Chi square pruning. Make sure the `chi_value=1` corresponds to no pruning. The values you need from the Chi square table are available in the python file `hw2.py`."
   ]
  },
  {
   "cell_type": "code",
   "execution_count": 19,
   "metadata": {},
   "outputs": [
    {
     "name": "stdout",
     "output_type": "stream",
     "text": [
      "6.000000000000001\n"
     ]
    }
   ],
   "source": [
    "# Data as seen in rec. 2 example for chi statistics\n",
    "# Expected output is 6\n",
    "test_array = np.array(([1,1], [1, 1], [1, 1], [1,1], [1, 1], [0, 0]))\n",
    "node = DecisionNode(data=test_array, feature=0, value=0.5)\n",
    "print (get_chi(node))"
   ]
  },
  {
   "cell_type": "code",
   "execution_count": 25,
   "metadata": {},
   "outputs": [
    {
     "name": "stdout",
     "output_type": "stream",
     "text": [
      "1 0.9370629370629371\n",
      "0.01 0.9440559440559441\n",
      "0.005 0.9440559440559441\n",
      "0.001 0.916083916083916\n",
      "0.0005 0.916083916083916\n",
      "0.0001 0.8881118881118881\n",
      "1e-05 0.8881118881118881\n"
     ]
    }
   ],
   "source": [
    "training = []\n",
    "testing  = []\n",
    "p_values = [1, 0.01, 0.005, 0.001, 0.0005, 0.0001, 0.00001]\n",
    "#### Your code here ####\n",
    "for chi_value in p_values:\n",
    "    tree = build_tree(X_train, best_func, chi_value)\n",
    "    train_accuracy = calc_accuracy(tree, X_train)\n",
    "    test_accuracy = calc_accuracy(tree, X_test)\n",
    "    training.append(train_accuracy)\n",
    "    testing.append(test_accuracy)\n",
    "    print (chi_value, test_accuracy)"
   ]
  },
  {
   "cell_type": "code",
   "execution_count": 27,
   "metadata": {},
   "outputs": [
    {
     "data": {
      "image/png": "[encoded data removed]",
      "text/plain": [
       "<Figure size 720x576 with 1 Axes>"
      ]
     },
     "metadata": {
      "needs_background": "light"
     },
     "output_type": "display_data"
    }
   ],
   "source": [
    "#### Your visualization here ####\n",
    "plt.plot(p_values, training)\n",
    "plt.plot(p_values, testing)\n",
    "plt.xscale('log')\n",
    "plt.yscale('linear')\n",
    "plt.ylabel('Accuracy')\n",
    "plt.xlabel('p values')\n",
    "plt.title('Accuracy as a function of p values')\n",
    "plt.legend(['training', 'testing'])\n",
    "plt.show()"
   ]
  },
  {
   "cell_type": "markdown",
   "metadata": {},
   "source": [
    "The p values that gives us the best result, are p values 0.01 and 0.005. The results partially support the theory learnt in class. I assumed that a stricter p value (which leads to more earlier prunings) would show us a decrease in testing accuracy. And the graph below demonstrates that this is indeed the case. Moreover, pruning even the slightest (changing the p value from 1 to 0.01 for instance), gave us an increase in accuracy on the testing test. I can conclude that pre-pruning is worthwhile in order to avoid overfitting, however, one should check a range of values in order to find the optimal p value."
   ]
  },
  {
   "cell_type": "markdown",
   "metadata": {},
   "source": [
    "## Post pruning\n",
    "\n",
    "Construct a decision tree without Chi square pruning. For each leaf in the tree, calculate the test accuracy of the tree assuming no split occurred on the parent of that leaf and find the best such parent (in the sense that not splitting on that parent results in the best testing accuracy among possible parents). Make that parent into a leaf and repeat this process until you are left with just the root. On a single plot, draw the training and testing accuracy as a function of the number of internal nodes in the tree. Explain the results: what would happen to the training and testing accuracies when you remove nodes from the tree? Can you suggest a different approach to achieve better results? (20 points)"
   ]
  },
  {
   "cell_type": "code",
   "execution_count": 28,
   "metadata": {},
   "outputs": [],
   "source": [
    "#### Your code here ####\n",
    "\n",
    "def get_leaves(root):\n",
    "    count = 0\n",
    "    queue = [root]\n",
    "    leaves = []\n",
    "    while queue:\n",
    "        count += 1\n",
    "        node = queue.pop()\n",
    "        if not node.has_children():\n",
    "            leaves.append(node)\n",
    "        else:\n",
    "            for child in node.children:\n",
    "                    queue.append(child)\n",
    "    return leaves, count\n",
    "\n",
    "root = build_tree(X_train, best_func)\n",
    "\n"
   ]
  },
  {
   "cell_type": "code",
   "execution_count": 29,
   "metadata": {},
   "outputs": [],
   "source": [
    "\n",
    "leaves, count = get_leaves(root)\n",
    "post_training = [calc_accuracy(root, X_train)]\n",
    "post_testing = [calc_accuracy(root, X_test)]\n",
    "post_n_of_nodes = [count]\n",
    "\n",
    "while root.has_children():\n",
    "    best_parent = None\n",
    "    best_train_accuracy = 0\n",
    "    best_test_accuracy = 0\n",
    "    set_of_parents = set([leaf.parent for leaf in leaves if leaf.parent])\n",
    "    if not set_of_parents:\n",
    "        break\n",
    "    for parent in set_of_parents:\n",
    "        temp_children = parent.children[:]\n",
    "        parent.children = []\n",
    "        train = calc_accuracy(root, X_train)\n",
    "        test = calc_accuracy(root, X_test)\n",
    "        if train > best_train_accuracy:\n",
    "            best_parent = parent\n",
    "            best_train_accuracy = train\n",
    "            best_test_accuracy = test\n",
    "        parent.children = temp_children\n",
    "    for child in best_parent.children:\n",
    "        if child in leaves:\n",
    "            leaves.remove(child)\n",
    "            count -= 1\n",
    "    leaves.append(best_parent)\n",
    "    post_training.append(best_train_accuracy)\n",
    "    post_testing.append(best_test_accuracy)\n",
    "    post_n_of_nodes.append(count)\n"
   ]
  },
  {
   "cell_type": "code",
   "execution_count": 30,
   "metadata": {},
   "outputs": [
    {
     "data": {
      "image/png": "[encoded data removed]",
      "text/plain": [
       "<Figure size 720x576 with 1 Axes>"
      ]
     },
     "metadata": {
      "needs_background": "light"
     },
     "output_type": "display_data"
    }
   ],
   "source": [
    "plt.plot(post_n_of_nodes, post_training)\n",
    "plt.plot(post_n_of_nodes, post_testing)\n",
    "plt.xscale('linear')\n",
    "plt.yscale('linear')\n",
    "plt.ylabel('Accuracy')\n",
    "plt.xlabel('n of nodes')\n",
    "plt.title('Accuracy as a function of # of nodes')\n",
    "plt.legend(['training', 'testing'])\n",
    "plt.show()"
   ]
  },
  {
   "cell_type": "markdown",
   "metadata": {},
   "source": [
    "As one can expect, the accuracy steeply decreases once the tree's depth is lower than 3. The testing data accuracy behaves exactly as expected, and while not consistent, you obviously see the same pattern in the testing data's accuracy.\n",
    "Perhaps, in order to find the best number of nodes , we could instead of eliminating leaves each time, instead get rid of whole levels each time. Or alternatively, mark some features as non factors when building the tree, as we did in hw1, and find the best X-et (triplet, quadruplet, etc) that fits the data, (max. of avg. of training + testing accuracy)"
   ]
  },
  {
   "cell_type": "markdown",
   "metadata": {},
   "source": [
    "## Print the tree\n",
    "\n",
    "Complete the function `print_tree` in the python file `hw2.py` and print the tree using the chosen impurity measure and no pruning. Your code should like something like this (10 points):\n",
    "```\n",
    "[X0 <= 1],\n",
    "  [X1 <= 2]\n",
    "    [X2 <= 3], \n",
    "       leaf: [{1.0: 10}]\n",
    "       leaf: [{0.0: 10}]\n",
    "    [X4 <= 5], \n",
    "       leaf: [{1.0: 5}]\n",
    "       leaf: [{0.0: 10}]\n",
    "   leaf: [{1.0: 50}]\n",
    "```\n"
   ]
  },
  {
   "cell_type": "code",
   "execution_count": 31,
   "metadata": {},
   "outputs": [
    {
     "name": "stdout",
     "output_type": "stream",
     "text": [
      "[X27 <= 0.14235]\n",
      "  [X3 <= 696.25]\n",
      "    [X27 <= 0.1349]\n",
      "      [X10 <= 0.62555]\n",
      "        [X21 <= 33.349999999999994]\n",
      "          leaf: [1.0: 216]\n",
      "          [X21 <= 33.56]\n",
      "            leaf: [0.0: 1]\n",
      "            leaf: [1.0: 17]\n",
      "        [X1 <= 18.630000000000003]\n",
      "          leaf: [0.0: 1]\n",
      "          leaf: [1.0: 2]\n",
      "      [X15 <= 0.02744]\n",
      "        [X0 <= 13.225000000000001]\n",
      "          leaf: [1.0: 1]\n",
      "          leaf: [0.0: 4]\n",
      "        leaf: [1.0: 6]\n",
      "    [X1 <= 19.72]\n",
      "      [X6 <= 0.073105]\n",
      "        leaf: [1.0: 7]\n",
      "        leaf: [0.0: 3]\n",
      "      leaf: [0.0: 13]\n",
      "  [X13 <= 21.924999999999997]\n",
      "    [X21 <= 29.0]\n",
      "      [X1 <= 20.52]\n",
      "        leaf: [1.0: 8]\n",
      "        leaf: [0.0: 1]\n",
      "      leaf: [0.0: 5]\n",
      "    [X4 <= 0.079285]\n",
      "      leaf: [1.0: 1]\n",
      "      leaf: [0.0: 140]\n"
     ]
    }
   ],
   "source": [
    "#### Your code here ####\n",
    "print_tree(best_tree)"
   ]
  },
  {
   "cell_type": "code",
   "execution_count": null,
   "metadata": {},
   "outputs": [],
   "source": []
  }
 ],
 "metadata": {
  "kernelspec": {
   "display_name": "Python 3",
   "language": "python",
   "name": "python3"
  },
  "language_info": {
   "codemirror_mode": {
    "name": "ipython",
    "version": 3
   },
   "file_extension": ".py",
   "mimetype": "text/x-python",
   "name": "python",
   "nbconvert_exporter": "python",
   "pygments_lexer": "ipython3",
   "version": "3.7.1"
  }
 },
 "nbformat": 4,
 "nbformat_minor": 2
}
